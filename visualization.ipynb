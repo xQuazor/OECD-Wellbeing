{
 "cells": [
  {
   "cell_type": "code",
   "execution_count": 157,
   "id": "f1a88757",
   "metadata": {},
   "outputs": [],
   "source": [
    "import pandas as pd\n",
    "import altair as alt\n",
    "import numpy as np\n",
    "from vega_datasets import data as dataset\n",
    "from sklearn.experimental import enable_iterative_imputer\n",
    "from sklearn.impute import IterativeImputer"
   ]
  },
  {
   "cell_type": "code",
   "execution_count": 158,
   "id": "10e81f27",
   "metadata": {},
   "outputs": [],
   "source": [
    "#Opening spreadsheet and replacing missing values with NaN\n",
    "excel = pd.read_excel(\"sheets/life_index.xlsx\")\n",
    "excel = excel.replace('..', np.nan)\n",
    "excel = excel.replace(' ', '')"
   ]
  },
  {
   "cell_type": "code",
   "execution_count": 159,
   "id": "707bd278",
   "metadata": {},
   "outputs": [],
   "source": [
    "#Imputing missing values\n",
    "\n",
    "imputer = IterativeImputer(max_iter=15, random_state=0)\n",
    "\n",
    "# Gets only numerical data\n",
    "excel_copy = excel.iloc[:,1:].copy()\n",
    "excel_copy_mask = excel_copy.isna()\n",
    "imputed_valuess = imputer.fit_transform(excel_copy)\n",
    "excel_imputed = pd.DataFrame(data=imputed_valuess)\n",
    "excel_imputed = excel_imputed.abs()\n",
    "\n",
    "# Gets columns names except for first one. Did this because had to discard country names before imputing them.\n",
    "excel_names = excel.iloc[:0,1:].copy()\n",
    "\n",
    "# transforms dataframe into 1 dimensional format\n",
    "excel_names = excel_names.columns\n",
    "# gets first column with all rows\n",
    "countries = excel.iloc[:,:1]\n",
    "# creates new dataframe with imputted data and column names\n",
    "final_imputed = pd.DataFrame(data=excel_imputed.values,columns=excel_names)\n",
    "# inserts country names\n",
    "final_imputed.insert(loc=0, column='Countries',value=countries)\n",
    "\n",
    "final_imputed.to_excel(\"Table_Imputed.xlsx\")"
   ]
  },
  {
   "cell_type": "code",
   "execution_count": 160,
   "id": "23660720",
   "metadata": {},
   "outputs": [],
   "source": [
    "to_normalize = excel_imputed.copy()\n",
    "df_pos = to_normalize [[2,3,4,5,7,8,9,10,11,13,15,17,18,19,20,23]].copy()\n",
    "df_neg = to_normalize[[0,1,6,12,14,16,21,22]].copy()\n",
    "\n",
    "normalized_df_pos = df_pos.copy()\n",
    "normalized_df_neg = df_neg.copy()\n",
    "normalized_df_pos = (normalized_df_pos - normalized_df_pos.min())/(normalized_df_pos.max() - normalized_df_pos.min()) * 100\n",
    "normalized_df_neg = (1 - (normalized_df_neg - normalized_df_neg.min())/(normalized_df_neg.max() - normalized_df_neg.min())) * 100\n",
    "normalized_result = pd.concat([normalized_df_neg, normalized_df_pos],axis=1).round(2)\n",
    "normalized_result = normalized_result[sorted(normalized_result.columns)]\n",
    "format_result = pd.DataFrame(data=normalized_result.values,columns=excel_names)\n",
    "# format_result\n",
    "format_result.insert(loc=0, column='Countries',value=countries)\n",
    "format_result.to_json(\"full_scores.json\")\n"
   ]
  },
  {
   "cell_type": "code",
   "execution_count": 161,
   "id": "4eb274c6",
   "metadata": {},
   "outputs": [],
   "source": [
    "# I need 2 tables, one with full score for each country and another for scores of each category."
   ]
  },
  {
   "cell_type": "code",
   "execution_count": 162,
   "id": "2169e177",
   "metadata": {},
   "outputs": [
    {
     "name": "stderr",
     "output_type": "stream",
     "text": [
      "C:\\Users\\dovyd\\AppData\\Local\\Temp\\ipykernel_21696\\17844380.py:1: FutureWarning: Dropping of nuisance columns in DataFrame reductions (with 'numeric_only=None') is deprecated; in a future version this will raise TypeError.  Select only valid columns before calling the reduction.\n",
      "  full_score = format_result.sum(axis='columns')\n"
     ]
    }
   ],
   "source": [
    "full_score = format_result.sum(axis='columns')\n",
    "full_score = pd.DataFrame(full_score)\n",
    "full_score.insert(loc=0, column='Countries',value=countries)\n",
    "full_score.rename(columns={0:'Score'}, inplace=True)\n"
   ]
  },
  {
   "cell_type": "code",
   "execution_count": 163,
   "id": "99dcb917",
   "metadata": {},
   "outputs": [
    {
     "name": "stderr",
     "output_type": "stream",
     "text": [
      "C:\\Users\\dovyd\\AppData\\Local\\Temp\\ipykernel_21696\\3809542928.py:3: FutureWarning: Dropping of nuisance columns in DataFrame reductions (with 'numeric_only=None') is deprecated; in a future version this will raise TypeError.  Select only valid columns before calling the reduction.\n",
      "  housing = format_result.iloc[:,:3].sum(axis='columns').div(3)\n"
     ]
    }
   ],
   "source": [
    "#Category Scores\n",
    "\n",
    "housing = format_result.iloc[:,:3].sum(axis='columns').div(3)\n",
    "education = format_result.iloc[:,3:6].sum(axis='columns').div(3)\n",
    "environment = format_result.iloc[:,6:8].sum(axis='columns').div(2)\n",
    "health = format_result.iloc[:,8:10].sum(axis='columns').div(2)\n",
    "income = format_result.iloc[:,10:12].sum(axis='columns').div(2)\n",
    "jobs = format_result.iloc[:,12:16].sum(axis='columns').div(4)\n",
    "worklife = format_result.iloc[:,16:18].sum(axis='columns').div(2)\n",
    "community = format_result.iloc[:,18:19]\n",
    "civic_engagement = format_result.iloc[:,19:21].sum(axis='columns').div(2)\n",
    "safety = format_result.iloc[:,21:23].sum(axis='columns').div(2)\n",
    "life_satisfaction = format_result.iloc[:,23:24]\n",
    "\n",
    "result = pd.concat([housing,education,environment,health,income,jobs,worklife,community,civic_engagement,safety,life_satisfaction],axis=1)\n",
    "result.rename(columns={0:'Housing',1:'Education',2:'Environment',3:'Health',4:'Income',5:'Jobs',6:'Worklife','Quality of support network':'Community',7:'Civic Engagement',8:'Safety',}, inplace=True)\n",
    "result.insert(loc=0, column='Countries',value=countries)"
   ]
  },
  {
   "cell_type": "code",
   "execution_count": 164,
   "id": "accc9370",
   "metadata": {},
   "outputs": [],
   "source": [
    "import geopandas as gpd"
   ]
  },
  {
   "cell_type": "code",
   "execution_count": 165,
   "id": "03aa8aa1",
   "metadata": {},
   "outputs": [],
   "source": [
    "url = \"https://naciscdn.org/naturalearth/110m/cultural/ne_110m_admin_0_countries.zip\"\n",
    "countries_shape = gpd.read_file(url) # zipped shapefile\n",
    "countries_shape = countries_shape[['NAME', 'CONTINENT', 'ISO_A3', 'geometry']]\n",
    "countries_shape.loc[21,'ISO_A3'] = 'NOR'\n",
    "countries_shape.loc[43,'ISO_A3'] = 'FRA'"
   ]
  },
  {
   "cell_type": "code",
   "execution_count": 166,
   "id": "dc831fbf",
   "metadata": {},
   "outputs": [],
   "source": [
    "#Choropleth View\n",
    "\n",
    "\n",
    "#Importing Tables\n",
    "data_categories = pd.read_excel(\"sheets/out_of_a_100.xlsx\");\n",
    "choro_map = alt.Legend(titleAlign='left', legendX=0, legendY=25, orient='none')\n",
    "#Parameters\n",
    "total_select = alt.selection_point(fields=[\"Country\"])\n",
    "total_select_empty = alt.selection_point(fields=[\"Country\"], empty = False)\n",
    "countries_plot = list(data_categories.ISO)\n",
    "color_lsoa = alt.condition(total_select, alt.Color(\"Total:Q\", \n",
    "             scale = alt.Scale(scheme=\"spectral\",domain=[0, 100], clamp=True),\n",
    "             title=\"Well-being Score\", legend = choro_map),\n",
    "             alt.value(\"lightgray\")) \n",
    "\n",
    "#World Map                                                \n",
    "sphere = alt.sphere()\n",
    "graticule = alt.graticule()\n",
    "\n",
    "basemap = (alt.layer(\n",
    "alt.Chart(sphere).mark_geoshape(fill='white'),\n",
    "alt.Chart(graticule).mark_geoshape(stroke='lightgray'),\n",
    "alt.Chart(countries_shape).mark_geoshape(fill='lightgray')))\n",
    "\n",
    "choro_title = alt.TitleParams(text='Better Life Index Across the Globe', \n",
    "                              subtitle=['The Index Represents a Score Calculated from 23 Subcategories of Well-being. Greyed-out Countries Symbolise Missing Data.','Shift + Click to Select Multiple Countries. Hover For Details.'],\n",
    "                              subtitleFontSize=14, fontSize=20, anchor='start', offset=-15, color='#333333', subtitleColor='#555555')\n",
    "\n",
    "#Choropleth Map\n",
    "choro_lsoa = (alt.Chart(countries_shape, title=choro_title).mark_geoshape(stroke='#979797'\n",
    "    ).transform_lookup(\n",
    "        lookup=\"ISO_A3\",\n",
    "        from_=alt.LookupData(\n",
    "            data=data_categories, key='ISO', fields=['Total','Country','Rank'])\n",
    "            ).transform_filter(alt.FieldOneOfPredicate(field=\"ISO_A3\", oneOf=countries_plot)\n",
    "            ).encode(\n",
    "                color=color_lsoa,\n",
    "                tooltip=[alt.Tooltip(\"Country:N\", title=\"Country\"), \n",
    "                         alt.Tooltip(\"Total:Q\", title=\"Well-being Index\", format='.1f'), \n",
    "                         alt.Tooltip(\"Rank:Q\", title=\"Global Ranking\")]).add_params(total_select, total_select_empty))\n",
    "\n",
    "final_map = ((basemap + choro_lsoa).project(\"equalEarth\").properties(width=700, height=400))"
   ]
  },
  {
   "cell_type": "code",
   "execution_count": 167,
   "id": "267d513d",
   "metadata": {
    "scrolled": true
   },
   "outputs": [],
   "source": [
    "#Bar Chart View\n",
    "\n",
    "melted_data = pd.melt(data_categories, id_vars=['ISO','Country'], var_name='column', value_name='y')\n",
    "\n",
    "column_selection = alt.selection_point(\n",
    "    name='Select',\n",
    "    fields=['column'],\n",
    "    bind=alt.binding_select(options=data_categories.columns[3:].tolist()),\n",
    "    value='Housing'\n",
    ")\n",
    "bar_title = alt.TitleParams(text='Comparison of Well-being By Category', \n",
    "                            subtitle=['Compare the 11 Categories That Make Up the Better Life Index as Well as the Total Scores.','Use Dropdown To Select Category. Hover For Detail.'],\n",
    "                            subtitleFontSize=14, fontSize=20, anchor='start', offset=10, dx=75, color='#333333', subtitleColor='#414141')\n",
    "\n",
    "#Selective Bar Chart\n",
    "bar_chart = (alt.Chart(melted_data, title=bar_title).mark_bar(color=\"#0000FF\").encode(\n",
    "    y=alt.Y(\"Country:N\",title=''),\n",
    "    color=alt.Color('Country', title=\"Country\"),\n",
    "    x=alt.X(\"y\", title=\"Score for Selected Category\")).transform_filter(column_selection).transform_filter(total_select_empty).add_params(column_selection).properties(width=675, height=225))\n",
    "\n",
    "average_life_index = pd.read_excel(\"sheets/average_categories.xlsx\")\n",
    "melted_average = pd.melt(average_life_index, id_vars=['Country'], var_name='column', value_name='y')\n",
    "\n",
    "# Bar that displays the world average.\n",
    "average_index_chart = (alt.Chart(melted_average).mark_bar(color=\"#0000FF\").encode(\n",
    "    color=alt.Color('Country', title=''),\n",
    "    x=alt.X(\"y\",axis=alt.Axis(tickMinStep=1)).scale(domain=(0, 100)),\n",
    "    y=alt.Y(\"Country:N\")).properties(width=675, height=225)).transform_filter(column_selection)\n",
    "\n",
    "final_bar_chart = (bar_chart + average_index_chart).encode(tooltip=[alt.Tooltip(\"Country:N\", title=\"Country\"), alt.Tooltip(\"y:Q\",title='Score', format='.1f')])\n",
    "\n",
    "MCV = alt.vconcat(final_map,final_bar_chart)\n",
    "\n"
   ]
  },
  {
   "cell_type": "code",
   "execution_count": 168,
   "id": "8ddcfa4a",
   "metadata": {},
   "outputs": [
    {
     "name": "stderr",
     "output_type": "stream",
     "text": [
      "C:\\Users\\dovyd\\AppData\\Local\\Temp\\ipykernel_21696\\3476027020.py:5: FutureWarning: The default value of numeric_only in DataFrame.corr is deprecated. In a future version, it will default to False. Select only valid columns or specify the value of numeric_only to silence this warning.\n",
      "  correlation_matrix = format_result.corr()\n"
     ]
    }
   ],
   "source": [
    "#HeatMap View\n",
    "\n",
    "quality = pd.concat([life_satisfaction,health,environment], axis=1)\n",
    "quality.rename(columns={0:'health',1:'environment'}, inplace=True)\n",
    "correlation_matrix = format_result.corr()\n",
    "correlation_melted = correlation_matrix.reset_index().melt('index')\n",
    "correlation_melted.columns = ['variable1', 'variable2', 'correlation']\n",
    "\n",
    "heatmap_title = alt.TitleParams(text='Correlation Map of Well-being Indicators', \n",
    "                                subtitle=['Negative Correlation means that if one value increases, the other value decreases.',\n",
    "                                          'Positive Correlation means that if one value increases, the other value also increases.',\n",
    "                                          'Hover for More Details']\n",
    "                                ,subtitleFontSize=14, fontSize=20, anchor='start', offset=10, dx=185, color='#333333', subtitleColor='#414141')\n",
    "\n",
    "heatmap_legend = alt.Legend(titleAlign='left', legendX=1450, legendY=200, orient='none')\n",
    "heatmap = (\n",
    "    alt.Chart(correlation_melted,width=450, height=450, title=heatmap_title)\n",
    "    .mark_rect()\n",
    "    .encode(\n",
    "        x=alt.X('variable1:O',axis=alt.Axis(labelAngle=315, title=None)),\n",
    "        y=alt.Y('variable2:O', axis=alt.Axis(title=None)),\n",
    "        color=alt.Color('correlation:Q',title=\"Correlation\",scale=alt.Scale(scheme=\"blueorange\", domain=[-1,1]),legend=heatmap_legend),\n",
    "        tooltip=[alt.Tooltip(\"correlation:Q\", title=\"Correlation Index\", format='.2f'),\n",
    "                 alt.Tooltip(\"variable1:N\", title=\"Indicator 1\"),\n",
    "                 alt.Tooltip(\"variable2:N\", title=\"Indicator 2\")]\n",
    "    )\n",
    ")"
   ]
  },
  {
   "cell_type": "code",
   "execution_count": 169,
   "id": "bce0041b",
   "metadata": {},
   "outputs": [],
   "source": [
    "export = alt.hconcat(alt.vconcat(MCV), heatmap, center=True\n",
    "                    ).properties(padding=5, \n",
    "                    title=alt.TitleParams(text=\"OECD and Partner Country Wellbeing & Correlation of Wellbeing Factors\", \n",
    "                    fontSize=28 ,anchor='middle', align='right', offset=30, dx=237, color='#111111'), center=True)\n",
    "\n",
    "export.save('chart.html')"
   ]
  },
  {
   "cell_type": "code",
   "execution_count": null,
   "id": "eb781a99",
   "metadata": {},
   "outputs": [],
   "source": []
  }
 ],
 "metadata": {
  "kernelspec": {
   "display_name": "Python 3 (ipykernel)",
   "language": "python",
   "name": "python3"
  },
  "language_info": {
   "codemirror_mode": {
    "name": "ipython",
    "version": 3
   },
   "file_extension": ".py",
   "mimetype": "text/x-python",
   "name": "python",
   "nbconvert_exporter": "python",
   "pygments_lexer": "ipython3",
   "version": "3.11.4"
  }
 },
 "nbformat": 4,
 "nbformat_minor": 5
}
